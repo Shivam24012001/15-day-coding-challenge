{
 "cells": [
  {
   "cell_type": "markdown",
   "id": "27906355-59fb-48f8-ae45-8cd6555ece3e",
   "metadata": {},
   "source": [
    " Create a program that checks if a given string is a  ",
    "\n",
    " palindrome."
   ]
  },
  {
   "cell_type": "code",
   "execution_count": 4,
   "id": "5eb8249c-5286-4978-b08b-dcf839896875",
   "metadata": {},
   "outputs": [
    {
     "name": "stdin",
     "output_type": "stream",
     "text": [
      "Enter the string: shivam\n"
     ]
    },
    {
     "data": {
      "text/plain": [
       "'not a palinndrome number'"
      ]
     },
     "execution_count": 4,
     "metadata": {},
     "output_type": "execute_result"
    }
   ],
   "source": [
    "def ispalindrome(str):\n",
    "    if str==str[::-1]:\n",
    "        return \"Palindrome number:\"\n",
    "    else:\n",
    "        return \"not a palinndrome number\"\n",
    "str=input(\"Enter the string:\")\n",
    "ispalindrome(str)"
   ]
  },
  {
   "cell_type": "markdown",
   "id": "b9e20852-f778-4d00-a5d9-9d9f2c02b200",
   "metadata": {},
   "source": [
    " Write a function to count the number of vowels in a  ",
    "\n",
    " given string."
   ]
  },
  {
   "cell_type": "code",
   "execution_count": 5,
   "id": "be9c2d5c-f32b-429c-8fd2-bfa036e75358",
   "metadata": {},
   "outputs": [
    {
     "name": "stdin",
     "output_type": "stream",
     "text": [
      "Enter the string :- shivam mishra\n"
     ]
    },
    {
     "data": {
      "text/plain": [
       "4"
      ]
     },
     "execution_count": 5,
     "metadata": {},
     "output_type": "execute_result"
    }
   ],
   "source": [
    "def count_vowel(str):\n",
    "    vowels=\"aeiouAEIOU\"\n",
    "    vowel_count=0\n",
    "    for char in str:\n",
    "        if char in vowels:\n",
    "            vowel_count+=1\n",
    "    return vowel_count\n",
    "str=input(\"Enter the string :-\")\n",
    "count_vowel(str)\n",
    "    "
   ]
  },
  {
   "cell_type": "markdown",
   "id": "9ef67d07-9bf8-4e6f-b120-9a6e46fb5b13",
   "metadata": {},
   "source": [
    " Given a list of words, concatenate them into a single \n",
    "string separated by spaces"
   ]
  },
  {
   "cell_type": "code",
   "execution_count": 7,
   "id": "b0a3a1ba-1062-4bba-b9e4-d6ec09dbaacf",
   "metadata": {},
   "outputs": [
    {
     "name": "stdout",
     "output_type": "stream",
     "text": [
      "shivam vanya Abhinav\n",
      "['shivam', 'vanya', 'Abhinav']\n"
     ]
    }
   ],
   "source": [
    "l1=[\"shivam\",\"vanya\",\"Abhinav\"]\n",
    "result=\" \".join(l1)\n",
    "print(result)\n",
    "print(l1)\n",
    "    "
   ]
  },
  {
   "cell_type": "markdown",
   "id": "b9a6ff06-99b5-4895-a465-823ae9696381",
   "metadata": {},
   "source": [
    "Create a function to reverse a given string'"
   ]
  },
  {
   "cell_type": "code",
   "execution_count": 8,
   "id": "4df02a87-b6d4-4cc5-a2ae-5cf505373cf4",
   "metadata": {},
   "outputs": [
    {
     "name": "stdin",
     "output_type": "stream",
     "text": [
      "Enter the string:- shivam\n"
     ]
    },
    {
     "data": {
      "text/plain": [
       "'mavihs'"
      ]
     },
     "execution_count": 8,
     "metadata": {},
     "output_type": "execute_result"
    }
   ],
   "source": [
    "def reverse_function(string):\n",
    "    return string[::-1]\n",
    "str=input(\"Enter the string:-\")\n",
    "reverse_function(str)"
   ]
  },
  {
   "cell_type": "markdown",
   "id": "a2a2d6d4-2f0b-4d41-abcc-2efc3b280168",
   "metadata": {},
   "source": [
    "Write a program that takes a sentence as input and \n",
    "counts the number of words in it"
   ]
  },
  {
   "cell_type": "code",
   "execution_count": 9,
   "id": "85ce944f-c5ec-4c33-8241-a39967fb6a66",
   "metadata": {},
   "outputs": [
    {
     "name": "stdin",
     "output_type": "stream",
     "text": [
      "Enter the sentence shivam\n"
     ]
    },
    {
     "data": {
      "text/plain": [
       "6"
      ]
     },
     "execution_count": 9,
     "metadata": {},
     "output_type": "execute_result"
    }
   ],
   "source": [
    "def count_number_words(sentence):\n",
    "    return len(sentence)\n",
    "sentence=input(\"Enter the sentence\")\n",
    "count_number_words(sentence)"
   ]
  },
  {
   "cell_type": "markdown",
   "id": "19f7e343-974e-4c11-81ec-085ff6a2aa30",
   "metadata": {},
   "source": [
    "Implement a function that checks if a given string is a \n",
    "pangram (contains all letters of the alphabet)"
   ]
  },
  {
   "cell_type": "code",
   "execution_count": 11,
   "id": "efa942ad-9843-4c7f-b6a6-c40bc902c026",
   "metadata": {},
   "outputs": [
    {
     "name": "stdin",
     "output_type": "stream",
     "text": [
      "Enter the string to check the pangram : shiiojfsifjosi\n"
     ]
    },
    {
     "data": {
      "text/plain": [
       "False"
      ]
     },
     "execution_count": 11,
     "metadata": {},
     "output_type": "execute_result"
    }
   ],
   "source": [
    "def pangram_string(string):\n",
    "    alphabates='abcdefghijklmnopqrstuvwxyz'\n",
    "    for char in alphabates:\n",
    "        if char not in string.lower():\n",
    "            return False\n",
    "        return True\n",
    "string=input(\"Enter the string to check the pangram :\")\n",
    "pangram_string(string)"
   ]
  },
  {
   "cell_type": "markdown",
   "id": "926676ff-b92c-4d32-950f-994746016fbb",
   "metadata": {},
   "source": [
    " Given a string, write a function to remove all vowels from \n",
    "it and return the modified string"
   ]
  },
  {
   "cell_type": "code",
   "execution_count": 5,
   "id": "fdca6b36-d624-4edb-a78e-e981ff4dfeba",
   "metadata": {},
   "outputs": [
    {
     "name": "stdin",
     "output_type": "stream",
     "text": [
      "Enter the string  shivam\n"
     ]
    },
    {
     "data": {
      "text/plain": [
       "'shvm'"
      ]
     },
     "execution_count": 5,
     "metadata": {},
     "output_type": "execute_result"
    }
   ],
   "source": [
    "def remove_vowel(input_string):\n",
    "    vowel=\"aeiouAEIOU\"\n",
    "    modified_string=[]\n",
    "    for char in input_string:\n",
    "        if char not  in vowel:\n",
    "            modified_string.append(char)\n",
    "    return ''.join(modified_string)\n",
    "input_string=input(\"Enter the string \")\n",
    "remove_vowel(input_string)\n",
    "        "
   ]
  },
  {
   "cell_type": "markdown",
   "id": "e6f4f9af-61ba-495e-94e3-b737c58c5ef6",
   "metadata": {},
   "source": [
    "Write a Python program to find the length of the longest \n",
    "word in a sentence'"
   ]
  },
  {
   "cell_type": "code",
   "execution_count": 8,
   "id": "ba4ecf5a-dc75-4840-ad0d-f6688126b6d6",
   "metadata": {},
   "outputs": [
    {
     "name": "stdin",
     "output_type": "stream",
     "text": [
      "Enter the sentence shivam mishra not aaaaaaaaaaaa\n"
     ]
    },
    {
     "data": {
      "text/plain": [
       "12"
      ]
     },
     "execution_count": 8,
     "metadata": {},
     "output_type": "execute_result"
    }
   ],
   "source": [
    "def length_of_longest_words(sentence):\n",
    "    words=sentence.split()\n",
    "    if not words:\n",
    "        return 0\n",
    "    max_len=len(max(words,key=len))\n",
    "    return max_len\n",
    "sentence=input(\"Enter the sentence\")\n",
    "length_of_longest_words(sentence)\n",
    "\n",
    "    "
   ]
  },
  {
   "cell_type": "markdown",
   "id": "3a66d0a0-a291-4bc2-bcec-3957081e9565",
   "metadata": {},
   "source": [
    "Create a function that takes a sentence as input and \n",
    "returns the sentence in reverse order'"
   ]
  },
  {
   "cell_type": "code",
   "execution_count": 10,
   "id": "b5349f56-93c0-4cbd-b459-563f715676e1",
   "metadata": {},
   "outputs": [
    {
     "name": "stdin",
     "output_type": "stream",
     "text": [
      "Enter the sentence:- shivam mishra is not fit for thsi role\n"
     ]
    },
    {
     "data": {
      "text/plain": [
       "'elor isht rof tif ton si arhsim mavihs'"
      ]
     },
     "execution_count": 10,
     "metadata": {},
     "output_type": "execute_result"
    }
   ],
   "source": [
    "def reverse_sentence(sentence):\n",
    "    return sentence[::-1]\n",
    "sentence=input(\"Enter the sentence:-\")\n",
    "reverse_sentence(sentence)"
   ]
  },
  {
   "cell_type": "markdown",
   "id": "a35c94ab-9139-454d-b22c-f3b3a1708fb1",
   "metadata": {},
   "source": [
    "Given a list of names, count the number of names that \n",
    "start with a vowel'"
   ]
  },
  {
   "cell_type": "code",
   "execution_count": 14,
   "id": "0e68766c-e5c8-4cec-ad29-bf547f01a1bb",
   "metadata": {},
   "outputs": [
    {
     "data": {
      "text/plain": [
       "3"
      ]
     },
     "execution_count": 14,
     "metadata": {},
     "output_type": "execute_result"
    }
   ],
   "source": [
    "def count_start_with_vowel(string):\n",
    "    vowel=\"aeiouAEIOU\"\n",
    "    count_vowel=0\n",
    "    for name in string:\n",
    "        if name and name[0] in vowel:\n",
    "            count_vowel+=1\n",
    "    return count_vowel\n",
    "string=[\"Alice\", \"Bob\", \"Eve\", \"Charlie\", \"Oscar\", \"David\"]\n",
    "count_start_with_vowel(string)"
   ]
  },
  {
   "cell_type": "markdown",
   "id": "7ee6672d-6ed9-4a74-beec-ab55abf4b4df",
   "metadata": {},
   "source": [
    "Write a function to remove all duplicate characters from a \n",
    "given string'\n"
   ]
  },
  {
   "cell_type": "code",
   "execution_count": 15,
   "id": "7c7467ba-65de-4a19-b375-f16777d14e1a",
   "metadata": {},
   "outputs": [
    {
     "name": "stdin",
     "output_type": "stream",
     "text": [
      "Enter the string  programming\n"
     ]
    },
    {
     "data": {
      "text/plain": [
       "'p r o g a m i n'"
      ]
     },
     "execution_count": 15,
     "metadata": {},
     "output_type": "execute_result"
    }
   ],
   "source": [
    "def remove_duplicate(string):\n",
    "    unique_char=[]\n",
    "    seen_char=set()\n",
    "    for char in string:\n",
    "        if char not in seen_char:\n",
    "            seen_char.add(char)\n",
    "            unique_char.append(char)\n",
    "    return ' '.join(unique_char)\n",
    "string=input(\"Enter the string \")\n",
    "remove_duplicate(string)"
   ]
  },
  {
   "cell_type": "markdown",
   "id": "1f6286c1-15f8-403a-9df5-35256eb8ade9",
   "metadata": {},
   "source": [
    "Implement a program that takes a sentence and a word as \n",
    "input and checks if the word is present in the sentence"
   ]
  },
  {
   "cell_type": "code",
   "execution_count": 18,
   "id": "58bc4b71-5e13-4dd6-aa81-e77df80093aa",
   "metadata": {},
   "outputs": [
    {
     "data": {
      "text/plain": [
       "'not word found'"
      ]
     },
     "execution_count": 18,
     "metadata": {},
     "output_type": "execute_result"
    }
   ],
   "source": [
    "def words_check(words,sentence):\n",
    "    if words in sentence:\n",
    "        return words\n",
    "    else:\n",
    "        return \"not word found\"\n",
    "words=\"z\"\n",
    "sentence='My name is shivam'\n",
    "words_check(words,sentence)"
   ]
  },
  {
   "cell_type": "code",
   "execution_count": null,
   "id": "2a5f4714-0488-4f70-8f05-238d8f49d8c3",
   "metadata": {},
   "outputs": [],
   "source": []
  }
 ],
 "metadata": {
  "kernelspec": {
   "display_name": "Python 3 (ipykernel)",
   "language": "python",
   "name": "python3"
  },
  "language_info": {
   "codemirror_mode": {
    "name": "ipython",
    "version": 3
   },
   "file_extension": ".py",
   "mimetype": "text/x-python",
   "name": "python",
   "nbconvert_exporter": "python",
   "pygments_lexer": "ipython3",
   "version": "3.10.6"
  }
 },
 "nbformat": 4,
 "nbformat_minor": 5
}
