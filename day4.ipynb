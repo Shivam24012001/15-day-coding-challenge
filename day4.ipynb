{
 "cells": [
  {
   "cell_type": "markdown",
   "id": "fe69c1aa-acc7-4f08-8c82-d971d5f91c5c",
   "metadata": {},
   "source": [
    "Write a function to calculate the area of a circle  ",
    "\n",
    " given its radius."
   ]
  },
  {
   "cell_type": "code",
   "execution_count": 1,
   "id": "3871f7cb-cc7f-49fe-9bd9-840a5ff7243e",
   "metadata": {},
   "outputs": [
    {
     "name": "stdin",
     "output_type": "stream",
     "text": [
      "Enter the number: 4\n"
     ]
    },
    {
     "data": {
      "text/plain": [
       "50.24"
      ]
     },
     "execution_count": 1,
     "metadata": {},
     "output_type": "execute_result"
    }
   ],
   "source": [
    "def area_circle(radius):\n",
    "    area=3.14*(radius**2) \n",
    "    return area\n",
    "\n",
    "radius=float(input(\"Enter the number:\"))\n",
    "area_circle(radius)\n",
    "\n"
   ]
  },
  {
   "cell_type": "markdown",
   "id": "c6b89c6b-b717-4a03-aaf9-6463242c52fc",
   "metadata": {},
   "source": [
    "Create a function to check if a number is prime"
   ]
  },
  {
   "cell_type": "code",
   "execution_count": 1,
   "id": "84661c42-2044-4e1d-bff9-e7dcd9f76f22",
   "metadata": {},
   "outputs": [
    {
     "name": "stdin",
     "output_type": "stream",
     "text": [
      "Enter the number to check a prime number:- 2\n"
     ]
    },
    {
     "name": "stdout",
     "output_type": "stream",
     "text": [
      "The number is prime number\n"
     ]
    }
   ],
   "source": [
    "def isprime(num):\n",
    "    if num<=0:\n",
    "        return \"Enter the positive number\"\n",
    "    for i in range(2,int(num**0.5)+1):\n",
    "        return False\n",
    "    return True\n",
    "num=int(input(\"Enter the number to check a prime number:-\"))\n",
    "if isprime(num):\n",
    "    print(\"The number is prime number\")\n",
    "else:\n",
    "    print(\"The number is not a prime number\")\n"
   ]
  },
  {
   "cell_type": "markdown",
   "id": "c2c68c04-41d2-44be-bffb-0c044e836813",
   "metadata": {},
   "source": [
    " Implement a function that reverses a given string"
   ]
  },
  {
   "cell_type": "code",
   "execution_count": 2,
   "id": "4b2335ef-c43d-46b0-addf-04d9e90a934c",
   "metadata": {},
   "outputs": [
    {
     "name": "stdin",
     "output_type": "stream",
     "text": [
      "enter the string to reverse the string: shiv\n"
     ]
    },
    {
     "name": "stdout",
     "output_type": "stream",
     "text": [
      "The original string is: shiv\n",
      " the reverse string: vihs\n"
     ]
    }
   ],
   "source": [
    "def reverse_string(str):\n",
    "    return str[::-1]\n",
    "str=input(\"enter the string to reverse the string:\")\n",
    "print(f\"The original string is: {str}\")\n",
    "print(f\" the reverse string: {reverse_string(str)}\")"
   ]
  },
  {
   "cell_type": "markdown",
   "id": "452d308b-f53c-4ba2-9eb7-5288ce1820f4",
   "metadata": {},
   "source": [
    "Given a list of numbers, create a function to find the sum \n",
    "of all positive numbers"
   ]
  },
  {
   "cell_type": "code",
   "execution_count": 3,
   "id": "8f0bd818-fe77-4a88-bbbc-365e15206164",
   "metadata": {},
   "outputs": [
    {
     "data": {
      "text/plain": [
       "36"
      ]
     },
     "execution_count": 3,
     "metadata": {},
     "output_type": "execute_result"
    }
   ],
   "source": [
    "def sum_positive_number(list):\n",
    "    positive_num=0\n",
    "    for num in list:\n",
    "        if num>=0:\n",
    "            positive_num+=num\n",
    "    return positive_num\n",
    "\n",
    "list=[1,2,3,4,5,6,7,-9,8]\n",
    "sum_positive_number(list)\n",
    "            \n",
    "    "
   ]
  },
  {
   "cell_type": "markdown",
   "id": "55ce22dd-e535-4196-ad2d-d62159af5581",
   "metadata": {},
   "source": [
    "& Write a Python function to check if a given string is a \n",
    "palindrome*"
   ]
  },
  {
   "cell_type": "code",
   "execution_count": 4,
   "id": "8b239664-c301-4237-afd3-86d5449457aa",
   "metadata": {},
   "outputs": [
    {
     "name": "stdin",
     "output_type": "stream",
     "text": [
      "Enter the string: shi\n"
     ]
    },
    {
     "name": "stdout",
     "output_type": "stream",
     "text": [
      "Not a palindrome string\n"
     ]
    }
   ],
   "source": [
    "def isPalindrome(str):\n",
    "    if str==str[::-1]:\n",
    "        return \"The string is a palindrome\"\n",
    "    else:\n",
    "        return \"Not a palindrome string\"\n",
    "str=input(\"Enter the string:\")\n",
    "print(isPalindrome(str))"
   ]
  },
  {
   "cell_type": "markdown",
   "id": "49bc44c0-169b-4364-9619-066ea1d9e617",
   "metadata": {},
   "source": [
    "& Implement a function that returns the factorial of a given \n",
    "number using recursion"
   ]
  },
  {
   "cell_type": "code",
   "execution_count": 3,
   "id": "15a92023-5357-4bc3-822c-2513e2aac375",
   "metadata": {},
   "outputs": [
    {
     "name": "stdin",
     "output_type": "stream",
     "text": [
      "Enter the number to check for factorial 8\n"
     ]
    },
    {
     "data": {
      "text/plain": [
       "40320"
      ]
     },
     "execution_count": 3,
     "metadata": {},
     "output_type": "execute_result"
    }
   ],
   "source": [
    "def recursive_factorial(num):\n",
    "    if num<0:\n",
    "        return \"Enter the non-negative number:\"\n",
    "    elif num==0 or num==1:\n",
    "        return 1\n",
    "    else:\n",
    "        return num*recursive_factorial(num-1)\n",
    "num=int(input(\"Enter the number to check for factorial\"))\n",
    "recursive_factorial(num)"
   ]
  },
  {
   "cell_type": "markdown",
   "id": "eebcf6a3-4bf3-4e30-ac7d-b9516fb5a36f",
   "metadata": {},
   "source": [
    " Create a function to find the square of each element in a \n",
    "given list*"
   ]
  },
  {
   "cell_type": "code",
   "execution_count": 10,
   "id": "7110aa94-3f02-4821-9ff7-927b881b8eb5",
   "metadata": {},
   "outputs": [
    {
     "data": {
      "text/plain": [
       "[9, 9, 16, 25]"
      ]
     },
     "execution_count": 10,
     "metadata": {},
     "output_type": "execute_result"
    }
   ],
   "source": [
    "def square(list):\n",
    "    result=[]\n",
    "    for i in list:\n",
    "        result.append(i**2)\n",
    "    return result\n",
    "        \n",
    "list=[3,3,4,5]  \n",
    "square(list)"
   ]
  },
  {
   "cell_type": "markdown",
   "id": "589cfaff-9a05-44af-8013-0d863ffae9a5",
   "metadata": {},
   "source": [
    " Write a function to check if a number is even or odd and \n",
    "return \"Even\" or \"Odd\" accordingly"
   ]
  },
  {
   "cell_type": "code",
   "execution_count": 13,
   "id": "78af484b-7be8-48a4-9bce-7ce94f335d5d",
   "metadata": {},
   "outputs": [
    {
     "name": "stdin",
     "output_type": "stream",
     "text": [
      "Enter the number to check for even or odd: 454538957\n"
     ]
    },
    {
     "data": {
      "text/plain": [
       "'odd'"
      ]
     },
     "execution_count": 13,
     "metadata": {},
     "output_type": "execute_result"
    }
   ],
   "source": [
    "def even_odd(num):\n",
    "    if num%2==0:\n",
    "        return 'EVEN'\n",
    "    else:\n",
    "        return 'odd'\n",
    "num=int(input(\"Enter the number to check for even or odd:\"))\n",
    "even_odd(num)"
   ]
  },
  {
   "cell_type": "markdown",
   "id": "54362a43-e3db-462f-9023-c3fc0ca1b2ad",
   "metadata": {},
   "source": [
    " Calculate the area of a triangle given its base and height \n",
    "using a function*"
   ]
  },
  {
   "cell_type": "code",
   "execution_count": 17,
   "id": "52fcd645-0bc5-4042-8622-655c83a19ee9",
   "metadata": {},
   "outputs": [
    {
     "name": "stdin",
     "output_type": "stream",
     "text": [
      "Enter the base: 34\n",
      "Enter the height 34\n"
     ]
    },
    {
     "data": {
      "text/plain": [
       "578.0"
      ]
     },
     "execution_count": 17,
     "metadata": {},
     "output_type": "execute_result"
    }
   ],
   "source": [
    "def area_triangle(base,hei):\n",
    "    area=0\n",
    "    area=(base*hei)/2\n",
    "    return area\n",
    "base=float(input(\"Enter the base:\"))\n",
    "hei=float(input(\"Enter the height\"))\n",
    "\n",
    "area_triangle(base,hei)"
   ]
  },
  {
   "cell_type": "markdown",
   "id": "a71112bc-f993-4df9-97f7-17377a76f042",
   "metadata": {},
   "source": [
    "Create a function that takes a list of strings and returns \n",
    "the list sorted alphabetically"
   ]
  },
  {
   "cell_type": "code",
   "execution_count": 20,
   "id": "732c2855-6fea-4824-afa7-80a44e78ff20",
   "metadata": {},
   "outputs": [
    {
     "data": {
      "text/plain": [
       "['apple', 'banana', 'cherry', 'date', 'grape']"
      ]
     },
     "execution_count": 20,
     "metadata": {},
     "output_type": "execute_result"
    }
   ],
   "source": [
    "def sorted_alphabetically(input_list):\n",
    "    return sorted(input_list)\n",
    "input_list=[\"banana\", \"apple\", \"cherry\", \"date\", \"grape\"]\n",
    "sorted_alphabetically(input_list)\n",
    "    "
   ]
  },
  {
   "cell_type": "markdown",
   "id": "53e25e40-020f-43dd-a6bc-b02cfcabf96c",
   "metadata": {},
   "source": [
    " Write a function that takes two lists and returns their \n",
    "intersection (common elements)"
   ]
  },
  {
   "cell_type": "code",
   "execution_count": 32,
   "id": "3471a292-7f70-4cb5-b818-6b89be89da84",
   "metadata": {},
   "outputs": [
    {
     "ename": "TypeError",
     "evalue": "'list' object is not callable",
     "output_type": "error",
     "traceback": [
      "\u001b[1;31m---------------------------------------------------------------------------\u001b[0m",
      "\u001b[1;31mTypeError\u001b[0m                                 Traceback (most recent call last)",
      "Input \u001b[1;32mIn [32]\u001b[0m, in \u001b[0;36m<cell line: 10>\u001b[1;34m()\u001b[0m\n\u001b[0;32m      8\u001b[0m list_a \u001b[38;5;241m=\u001b[39m [\u001b[38;5;241m1\u001b[39m, \u001b[38;5;241m2\u001b[39m, \u001b[38;5;241m3\u001b[39m, \u001b[38;5;241m4\u001b[39m, \u001b[38;5;241m5\u001b[39m]\n\u001b[0;32m      9\u001b[0m list_b \u001b[38;5;241m=\u001b[39m [\u001b[38;5;241m3\u001b[39m, \u001b[38;5;241m4\u001b[39m, \u001b[38;5;241m5\u001b[39m, \u001b[38;5;241m6\u001b[39m, \u001b[38;5;241m7\u001b[39m]\n\u001b[1;32m---> 10\u001b[0m intersection_result \u001b[38;5;241m=\u001b[39m \u001b[43mfind_intersection\u001b[49m\u001b[43m(\u001b[49m\u001b[43mlist_a\u001b[49m\u001b[43m,\u001b[49m\u001b[43m \u001b[49m\u001b[43mlist_b\u001b[49m\u001b[43m)\u001b[49m\n\u001b[0;32m     12\u001b[0m \u001b[38;5;28mprint\u001b[39m(\u001b[38;5;124m\"\u001b[39m\u001b[38;5;124mList A:\u001b[39m\u001b[38;5;124m\"\u001b[39m, list_a)\n\u001b[0;32m     13\u001b[0m \u001b[38;5;28mprint\u001b[39m(\u001b[38;5;124m\"\u001b[39m\u001b[38;5;124mList B:\u001b[39m\u001b[38;5;124m\"\u001b[39m, list_b)\n",
      "Input \u001b[1;32mIn [32]\u001b[0m, in \u001b[0;36mfind_intersection\u001b[1;34m(list1, list2)\u001b[0m\n\u001b[0;32m      2\u001b[0m set1 \u001b[38;5;241m=\u001b[39m \u001b[38;5;28mset\u001b[39m(list1)\n\u001b[0;32m      3\u001b[0m set2 \u001b[38;5;241m=\u001b[39m \u001b[38;5;28mset\u001b[39m(list2)\n\u001b[1;32m----> 4\u001b[0m intersection_result \u001b[38;5;241m=\u001b[39m \u001b[38;5;28;43mlist\u001b[39;49m\u001b[43m(\u001b[49m\u001b[43mset1\u001b[49m\u001b[38;5;241;43m.\u001b[39;49m\u001b[43mintersection\u001b[49m\u001b[43m(\u001b[49m\u001b[43mset2\u001b[49m\u001b[43m)\u001b[49m\u001b[43m)\u001b[49m\n\u001b[0;32m      5\u001b[0m \u001b[38;5;28;01mreturn\u001b[39;00m intersection_result\n",
      "\u001b[1;31mTypeError\u001b[0m: 'list' object is not callable"
     ]
    }
   ],
   "source": [
    "def find_intersection(list1, list2):\n",
    "    set1 = set(list1)\n",
    "    set2 = set(list2)\n",
    "    intersection_result = list(set1.intersection(set2))\n",
    "    return intersection_result\n",
    "\n",
    "# Example usage:\n",
    "list_a = [1, 2, 3, 4, 5]\n",
    "list_b = [3, 4, 5, 6, 7]\n",
    "intersection_result = find_intersection(list_a, list_b)\n",
    "\n",
    "print(\"List A:\", list_a)\n",
    "print(\"List B:\", list_b)\n",
    "print(\"Intersection:\", intersection_result)\n",
    "\n"
   ]
  },
  {
   "cell_type": "markdown",
   "id": "b6d93e00-2d9a-42fc-a6f0-778402672942",
   "metadata": {},
   "source": [
    "& Implement a function to check if a given year is a leap \n",
    "year or not*\n"
   ]
  },
  {
   "cell_type": "code",
   "execution_count": 41,
   "id": "7949ce30-8907-408f-af2a-2aa356f32478",
   "metadata": {},
   "outputs": [
    {
     "name": "stdin",
     "output_type": "stream",
     "text": [
      "Enter the year:- 2001\n"
     ]
    },
    {
     "name": "stdout",
     "output_type": "stream",
     "text": [
      "not leap year 2001\n"
     ]
    }
   ],
   "source": [
    "def leap_year(year):\n",
    "    if (year%4==0 and year%100!=0) or year%400==0:\n",
    "        print(f\"Leap year {year}\")\n",
    "    else:\n",
    "        print(f\"not leap year {year}\")\n",
    "year=int(input(\"Enter the year:-\"))\n",
    "leap_year(year)"
   ]
  },
  {
   "cell_type": "markdown",
   "id": "ab9e2727-259f-433b-94be-c7a107d2f1ad",
   "metadata": {},
   "source": [
    "& Create a function that takes a number as input and prints \n",
    "its multiplication table"
   ]
  },
  {
   "cell_type": "code",
   "execution_count": 42,
   "id": "7648f124-7c6f-4075-9196-30a0196057fb",
   "metadata": {},
   "outputs": [
    {
     "name": "stdout",
     "output_type": "stream",
     "text": [
      "3\n",
      "6\n",
      "9\n",
      "12\n",
      "15\n",
      "18\n",
      "21\n",
      "24\n",
      "27\n",
      "30\n"
     ]
    }
   ],
   "source": [
    "def multiplication_table(num):\n",
    "    for i in range(1,11):\n",
    "        print(num*i)\n",
    "multiplication_table(3)\n",
    "    "
   ]
  },
  {
   "cell_type": "code",
   "execution_count": null,
   "id": "7234fcd3-9905-4bef-9836-2b02b4f3e1b5",
   "metadata": {},
   "outputs": [],
   "source": []
  }
 ],
 "metadata": {
  "kernelspec": {
   "display_name": "Python 3 (ipykernel)",
   "language": "python",
   "name": "python3"
  },
  "language_info": {
   "codemirror_mode": {
    "name": "ipython",
    "version": 3
   },
   "file_extension": ".py",
   "mimetype": "text/x-python",
   "name": "python",
   "nbconvert_exporter": "python",
   "pygments_lexer": "ipython3",
   "version": "3.10.6"
  }
 },
 "nbformat": 4,
 "nbformat_minor": 5
}
