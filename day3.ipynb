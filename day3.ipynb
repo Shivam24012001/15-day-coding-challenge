{
 "cells": [
  {
   "cell_type": "markdown",
   "id": "f36eb1cf-07b4-4119-b228-8a3a8595111f",
   "metadata": {},
   "source": [
    "Write a program that checks if a given number is  ",
    "\n",
    " positive, negative, or zero."
   ]
  },
  {
   "cell_type": "code",
   "execution_count": 3,
   "id": "8ced85db-fc62-4d8d-90df-c3381e3fd629",
   "metadata": {},
   "outputs": [
    {
     "name": "stdin",
     "output_type": "stream",
     "text": [
      "Enter the number: -12324\n"
     ]
    },
    {
     "name": "stdout",
     "output_type": "stream",
     "text": [
      "Negative number:\n"
     ]
    }
   ],
   "source": [
    "number=int(input(\"Enter the number:\"))\n",
    "if number>0:\n",
    "    print(\"Positive number:\")\n",
    "elif number<0:\n",
    "    print(\"Negative number:\")\n",
    "else:\n",
    "    print(\"zero number\")"
   ]
  },
  {
   "cell_type": "markdown",
   "id": "3b37c111-9628-405f-a173-6d9ee5ddd28b",
   "metadata": {},
   "source": [
    "Create a loop that prints the first 10 even numbers."
   ]
  },
  {
   "cell_type": "code",
   "execution_count": 7,
   "id": "c435c648-0e05-4e1b-bed8-206c42602e2e",
   "metadata": {},
   "outputs": [
    {
     "name": "stdout",
     "output_type": "stream",
     "text": [
      "2\n",
      "4\n",
      "6\n",
      "8\n",
      "10\n",
      "12\n",
      "14\n",
      "16\n",
      "18\n",
      "20\n"
     ]
    }
   ],
   "source": [
    "\n",
    "for i in range(2,21,2):\n",
    "    print(i)"
   ]
  },
  {
   "cell_type": "markdown",
   "id": "dc1fd82b-7248-44be-9247-c4620b90780d",
   "metadata": {},
   "source": [
    "Implement a program that finds the largest number ",
    "\n",
    " in a list"
   ]
  },
  {
   "cell_type": "code",
   "execution_count": 9,
   "id": "1d248420-fe3f-4b4f-9509-7f688af91866",
   "metadata": {},
   "outputs": [
    {
     "data": {
      "text/plain": [
       "7"
      ]
     },
     "execution_count": 9,
     "metadata": {},
     "output_type": "execute_result"
    }
   ],
   "source": [
    "l1=[1,2,3,4,5,6,7]\n",
    "def find_largest_number(numbers):\n",
    "    if not numbers:\n",
    "        print(\"The list is empty\")\n",
    "        return none\n",
    "    largest_number=numbers[0]\n",
    "    for num in numbers[1:]:\n",
    "        if num>largest_number:\n",
    "            largest_number=num\n",
    "    return largest_number\n",
    "find_largest_number(l1)\n",
    "    "
   ]
  },
  {
   "cell_type": "markdown",
   "id": "5e9d5edb-065b-445f-9935-746e84d8f840",
   "metadata": {},
   "source": [
    " Create a program that takes a year as input and checks if \n",
    "it is a leap year or not"
   ]
  },
  {
   "cell_type": "code",
   "execution_count": 1,
   "id": "6999e32c-1642-408c-b6be-e4a1d74a67e2",
   "metadata": {},
   "outputs": [
    {
     "name": "stdin",
     "output_type": "stream",
     "text": [
      "Enter the year to check the leap year or not 300\n"
     ]
    },
    {
     "name": "stdout",
     "output_type": "stream",
     "text": [
      "not a leap year 300\n"
     ]
    }
   ],
   "source": [
    "year=int(input(\"Enter the year to check the leap year or not\"))\n",
    "def leap_year(year):\n",
    "    if (year%4==0 and year%100!=0) or year%400==0 :\n",
    "        print(f\"leap year {year}\")\n",
    "    else:\n",
    "        print(f\"not a leap year {year}\")\n",
    "leap_year(year)"
   ]
  },
  {
   "cell_type": "markdown",
   "id": "8ac69bf0-f5c3-4ca7-9157-0fc20e1f49b7",
   "metadata": {},
   "source": [
    "Given a list of integers, find all the even numbers and \n",
    "store them in a new list"
   ]
  },
  {
   "cell_type": "code",
   "execution_count": 32,
   "id": "5f48b935-4a9c-438f-a15f-e4bf804fe6ff",
   "metadata": {},
   "outputs": [
    {
     "name": "stdout",
     "output_type": "stream",
     "text": [
      "[2, 4, 6, 8]\n"
     ]
    }
   ],
   "source": [
    "def find_even_number(input_list):\n",
    "    even_number=[]\n",
    "    for num in input_list:\n",
    "       if num%2==0:\n",
    "            even_number.append(num)\n",
    "    return even_number\n",
    "input_list=[1,2,3,4,5,6,7,8,9]\n",
    "results=find_even_number(input_list)\n",
    "print(results)"
   ]
  },
  {
   "cell_type": "markdown",
   "id": "fe68fefa-d45d-49c5-ae06-51b9bcb1e711",
   "metadata": {},
   "source": [
    "Write a Python program to check if a given number is a \n",
    "prime number+"
   ]
  },
  {
   "cell_type": "code",
   "execution_count": 34,
   "id": "527ad475-5b14-4e68-819b-d122964ca378",
   "metadata": {},
   "outputs": [
    {
     "name": "stdin",
     "output_type": "stream",
     "text": [
      "Enter the number 5\n"
     ]
    },
    {
     "name": "stdout",
     "output_type": "stream",
     "text": [
      "The prime number:\n"
     ]
    }
   ],
   "source": [
    "def isprime(number):\n",
    "    if number<=0:\n",
    "        return False\n",
    "    for i in range(2,int(number**0.5)+1):\n",
    "        if number%i==0:\n",
    "            return False\n",
    "        return True\n",
    "number=int(input(\"Enter the number\"))\n",
    "if isprime(number):\n",
    "    print(\"The prime number:\")\n",
    "else:\n",
    "    print(\"Not a prime number:\")"
   ]
  },
  {
   "cell_type": "markdown",
   "id": "300c7d2b-a14e-41b9-afdc-6900ef63a2a3",
   "metadata": {},
   "source": [
    "Create a program that generates the Fibonacci sequence \n",
    "up to a given number of terms"
   ]
  },
  {
   "cell_type": "code",
   "execution_count": 37,
   "id": "d89b6a9d-cbc2-469f-9fbd-ee0470b2a644",
   "metadata": {},
   "outputs": [
    {
     "name": "stdin",
     "output_type": "stream",
     "text": [
      "Enter the number 6\n"
     ]
    },
    {
     "name": "stdout",
     "output_type": "stream",
     "text": [
      "The fibonacci series[0, 1, 1, 2, 3, 5]\n"
     ]
    }
   ],
   "source": [
    "#method-1\n",
    "def fabonacci(num):\n",
    "    fibnonic_sequence=[0,1]\n",
    "    \n",
    "    for _ in range(2,num):\n",
    "        next_number=fibnonic_sequence[-1]+fibnonic_sequence[-2]\n",
    "        fibnonic_sequence.append(next_number)\n",
    "    return fibnonic_sequence\n",
    "num=int(input(\"Enter the number\"))\n",
    "print(f\"The fibonacci series{fabonacci(num)}\")\n",
    "        \n",
    "        \n",
    "    "
   ]
  },
  {
   "cell_type": "code",
   "execution_count": 41,
   "id": "886a9e30-5a51-44fa-ac27-e7ac3b029f36",
   "metadata": {},
   "outputs": [
    {
     "name": "stdin",
     "output_type": "stream",
     "text": [
      "Enter the number: 6\n"
     ]
    },
    {
     "name": "stdout",
     "output_type": "stream",
     "text": [
      "0 1 1 2 3 5 \n"
     ]
    }
   ],
   "source": [
    "#method-2\n",
    "n1=0\n",
    "n2=1\n",
    "num=int(input(\"Enter the number:\"))\n",
    "print(n1,n2,end=\" \")\n",
    "for i in range(2,num):\n",
    "    n3=n1+n2\n",
    "    n1=n2\n",
    "    n2=n3\n",
    "    print(n3 , end=\" \")\n",
    "print()\n",
    "    \n"
   ]
  },
  {
   "cell_type": "markdown",
   "id": "6dd98be6-4b83-449c-841d-622b38733147",
   "metadata": {},
   "source": [
    "Given a list of names, print all names starting with the \n",
    "letter 'A'+"
   ]
  },
  {
   "cell_type": "code",
   "execution_count": 4,
   "id": "31d0622a-0d49-410f-9be8-c5995d9e9f71",
   "metadata": {},
   "outputs": [
    {
     "name": "stdout",
     "output_type": "stream",
     "text": [
      "A\n"
     ]
    }
   ],
   "source": [
    "def names_starting_list(list):\n",
    "    for i in list:\n",
    "         if i.startswith(\"A\"):\n",
    "            print(i)\n",
    "list=['A','b','C']\n",
    "names_starting_list(list)    \n",
    "    "
   ]
  },
  {
   "cell_type": "markdown",
   "id": "aafbc8a4-f7b6-41c6-9189-6e52e8632303",
   "metadata": {},
   "source": [
    " Implement a program that prints the multiplication table \n",
    "of a given number"
   ]
  },
  {
   "cell_type": "code",
   "execution_count": 14,
   "id": "26cee22a-5530-4fcb-a4df-a420299d4b62",
   "metadata": {},
   "outputs": [
    {
     "name": "stdout",
     "output_type": "stream",
     "text": [
      "2 * 1= 2\n",
      "2 * 2= 4\n",
      "2 * 3= 6\n",
      "2 * 4= 8\n",
      "2 * 5= 10\n",
      "2 * 6= 12\n",
      "2 * 7= 14\n",
      "2 * 8= 16\n",
      "2 * 9= 18\n",
      "2 * 10= 20\n"
     ]
    }
   ],
   "source": [
    "def multiplication_table(num):\n",
    "    for i in range(1,11):\n",
    "        print(f\"{num} * {i}= {num*i}\")\n",
    "multiplication_table(2)"
   ]
  },
  {
   "cell_type": "markdown",
   "id": "94decdaf-54a9-4826-84a7-d7c625dd95a7",
   "metadata": {},
   "source": [
    "Write a program that calculates the factorial of a given \n",
    "number"
   ]
  },
  {
   "cell_type": "code",
   "execution_count": 5,
   "id": "8e4beb83-4917-4bfb-bc4c-41bc7b66a66c",
   "metadata": {},
   "outputs": [
    {
     "name": "stdin",
     "output_type": "stream",
     "text": [
      "Enter the number : 5\n"
     ]
    },
    {
     "data": {
      "text/plain": [
       "120"
      ]
     },
     "execution_count": 5,
     "metadata": {},
     "output_type": "execute_result"
    }
   ],
   "source": [
    "def factorial(num):\n",
    "    if num<0:\n",
    "        return \"Factorial not defined\"\n",
    "    elif num==0 or num==1:\n",
    "        return 1\n",
    "    else:\n",
    "       return num*factorial(num-1)\n",
    "num=int(input(\"Enter the number :\"))\n",
    "factorial(num)\n",
    "        "
   ]
  },
  {
   "cell_type": "markdown",
   "id": "b4a8979c-a562-4854-bf58-cfdbad8e86a2",
   "metadata": {},
   "source": [
    " Create a loop that prints all prime numbers between 1 and \n",
    "50+"
   ]
  },
  {
   "cell_type": "code",
   "execution_count": 23,
   "id": "d5c08353-4ec6-4e84-ace1-d23bc1034927",
   "metadata": {},
   "outputs": [
    {
     "name": "stdout",
     "output_type": "stream",
     "text": [
      "Prime numbers between 1 and 50:\n",
      "2\n",
      "3\n",
      "5\n",
      "7\n",
      "11\n",
      "13\n",
      "17\n",
      "19\n",
      "23\n",
      "29\n",
      "31\n",
      "37\n",
      "41\n",
      "43\n",
      "47\n"
     ]
    }
   ],
   "source": [
    "def is_prime(num):\n",
    "    if num < 2:\n",
    "        return False\n",
    "    for i in range(2, int(num**0.5) + 1):\n",
    "        if num % i == 0:\n",
    "            return False\n",
    "    return True\n",
    "\n",
    "# Print prime numbers between 1 and 50\n",
    "print(\"Prime numbers between 1 and 50:\")\n",
    "for number in range(1, 51):\n",
    "    if is_prime(number):\n",
    "        print(number)\n"
   ]
  },
  {
   "cell_type": "markdown",
   "id": "c0386d2a-e5e5-44eb-b484-ff75a2050788",
   "metadata": {},
   "source": [
    "Given a list of words, count the number of words with \n",
    "more than five characters"
   ]
  },
  {
   "cell_type": "code",
   "execution_count": 26,
   "id": "48cd5de3-2d5d-408b-9921-ca64a7412338",
   "metadata": {},
   "outputs": [
    {
     "name": "stdout",
     "output_type": "stream",
     "text": [
      "4\n"
     ]
    }
   ],
   "source": [
    "def count_words(l1):\n",
    "    count=0\n",
    "    for i in l1:\n",
    "        if len(i)>5:\n",
    "            count=count+1\n",
    "    return count\n",
    "l1 = [\"apple\", \"banana\", \"grape\", \"orange\", \"kiwi\", \"pineapple\", \"watermelon\"]\n",
    "print(count_words(l1))\n",
    "\n",
    "\n",
    "    "
   ]
  },
  {
   "cell_type": "markdown",
   "id": "95be8971-1c77-471c-8f72-0d6b0a50e384",
   "metadata": {},
   "source": [
    " Calculate the sum of digits of a given number."
   ]
  },
  {
   "cell_type": "code",
   "execution_count": 28,
   "id": "abf9d2d2-5b44-46b6-bf4e-d9590b9eca3a",
   "metadata": {},
   "outputs": [
    {
     "name": "stdin",
     "output_type": "stream",
     "text": [
      "Enter the number  23\n"
     ]
    },
    {
     "name": "stdout",
     "output_type": "stream",
     "text": [
      "the digit sum is 5\n"
     ]
    }
   ],
   "source": [
    "#Method1\n",
    "def sum_of_digits(num):\n",
    "    if num<0:\n",
    "        return \"Enter the positive number\"\n",
    "    digit_sum=0\n",
    "    strin_num=str(num)\n",
    "    for digit in strin_num:\n",
    "        digit_sum=digit_sum+ int(digit)\n",
    "    return digit_sum\n",
    "number=int(input(\"Enter the number \"))\n",
    "print(f\"the digit sum is {sum_of_digits(number)}\")\n",
    "        "
   ]
  },
  {
   "cell_type": "code",
   "execution_count": null,
   "id": "7084c505-9ce5-4f7a-a7a3-9cc39677a29c",
   "metadata": {},
   "outputs": [],
   "source": []
  }
 ],
 "metadata": {
  "kernelspec": {
   "display_name": "Python 3 (ipykernel)",
   "language": "python",
   "name": "python3"
  },
  "language_info": {
   "codemirror_mode": {
    "name": "ipython",
    "version": 3
   },
   "file_extension": ".py",
   "mimetype": "text/x-python",
   "name": "python",
   "nbconvert_exporter": "python",
   "pygments_lexer": "ipython3",
   "version": "3.10.6"
  }
 },
 "nbformat": 4,
 "nbformat_minor": 5
}
