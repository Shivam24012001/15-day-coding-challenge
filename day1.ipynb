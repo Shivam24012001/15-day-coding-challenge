{
 "cells": [
  {
   "cell_type": "markdown",
   "id": "7706bd68-10e3-46c2-a8a9-98d75ff398b2",
   "metadata": {},
   "source": [
    "#1: Write a Python program to print \"Hello, World!\"\n"
   ]
  },
  {
   "cell_type": "markdown",
   "id": "3bc8deb7-ba30-43b7-b499-3e2de40b2f89",
   "metadata": {},
   "source": [
    "print(\"Hello world!\")"
   ]
  },
  {
   "cell_type": "markdown",
   "id": "3cbcdf2b-8170-42a4-96db-b85ca83433bc",
   "metadata": {},
   "source": [
    "#Q 2: Calculate the sum of two numbers entered by the user."
   ]
  },
  {
   "cell_type": "code",
   "execution_count": 10,
   "id": "580f5af0-679f-45ff-a644-cb22402148e2",
   "metadata": {},
   "outputs": [
    {
     "name": "stdin",
     "output_type": "stream",
     "text": [
      "enter the number 1 23\n",
      "enter the number 2 23\n"
     ]
    },
    {
     "name": "stdout",
     "output_type": "stream",
     "text": [
      "sum of the two number 46\n"
     ]
    }
   ],
   "source": [
    "a=int(input(\"enter the number 1\"))\n",
    "b=int(input(\"enter the number 2\"))\n",
    "print(\"sum of the two number\",a+b)"
   ]
  },
  {
   "cell_type": "markdown",
   "id": "c6fdc076-985c-4e8f-94ac-7e8e02e619e7",
   "metadata": {},
   "source": [
    "Q 3: Convert temperature from Celsius to Fahrenheit"
   ]
  },
  {
   "cell_type": "code",
   "execution_count": 14,
   "id": "29d84397-df14-4f3a-ab72-f78543b67655",
   "metadata": {},
   "outputs": [
    {
     "name": "stdin",
     "output_type": "stream",
     "text": [
      "Enter the Temperature in celcius 23\n"
     ]
    },
    {
     "name": "stdout",
     "output_type": "stream",
     "text": [
      "fahrenheit value 73.4\n"
     ]
    }
   ],
   "source": [
    "cel_temp=float(input(\"Enter the Temperature in celcius\"))\n",
    "f=(cel_temp*9)/5+32\n",
    "print(f\"fahrenheit value {f}\",)"
   ]
  },
  {
   "cell_type": "markdown",
   "id": "39f2eea0-d3ec-4d45-ad9e-539515062e56",
   "metadata": {},
   "source": [
    "Write a Python program to calculate the area of a\n",
    "rectangle given its length and width "
   ]
  },
  {
   "cell_type": "code",
   "execution_count": 17,
   "id": "568de5c1-c8c4-409d-bb01-f0c0191a6df1",
   "metadata": {},
   "outputs": [
    {
     "name": "stdin",
     "output_type": "stream",
     "text": [
      "Enter the length of the rectangle 22\n",
      "Enter the breadth of the rectangle 23\n"
     ]
    },
    {
     "name": "stdout",
     "output_type": "stream",
     "text": [
      "area of the rectangle 506.0\n"
     ]
    }
   ],
   "source": [
    "len=float(input(\"Enter the length of the rectangle\"))\n",
    "br=float(input( \"Enter the breadth of the rectangle\"))\n",
    "area=len*br\n",
    "print(f\"area of the rectangle {area}\")"
   ]
  },
  {
   "cell_type": "markdown",
   "id": "8f15e4e0-b8f5-4a1a-93ed-71c9c37c5f3c",
   "metadata": {},
   "source": [
    "Create a program that takes a user's name and age as\n",
    "input and prints a greeting message "
   ]
  },
  {
   "cell_type": "code",
   "execution_count": 18,
   "id": "fdc18d5c-1f7d-4b28-96bc-98fd66b8fa3a",
   "metadata": {},
   "outputs": [
    {
     "name": "stdin",
     "output_type": "stream",
     "text": [
      "Enter the name Shivam\n",
      "enter the age  24\n"
     ]
    },
    {
     "name": "stdout",
     "output_type": "stream",
     "text": [
      "good morning Shivam 24\n"
     ]
    }
   ],
   "source": [
    "name=input(\"Enter the name\")\n",
    "age=int(input(\"enter the age \"))\n",
    "print(f\"good morning {name} {age}\")"
   ]
  },
  {
   "cell_type": "markdown",
   "id": "96e0fa82-0d54-44be-9ef5-bcafa41c03a9",
   "metadata": {},
   "source": [
    "Write a program to check if a number is even or odd "
   ]
  },
  {
   "cell_type": "code",
   "execution_count": 20,
   "id": "a7356d82-1a2c-41e7-8c29-9a7b055be8e2",
   "metadata": {},
   "outputs": [
    {
     "name": "stdin",
     "output_type": "stream",
     "text": [
      "enter the number 24\n"
     ]
    },
    {
     "name": "stdout",
     "output_type": "stream",
     "text": [
      "even number\n"
     ]
    }
   ],
   "source": [
    "n=int(input(\"enter the number\"))\n",
    "if n%2==0:\n",
    "    print(\"even number\")\n",
    "else:\n",
    "    \n",
    "    print(\"Odd number\")"
   ]
  },
  {
   "cell_type": "markdown",
   "id": "d66805b8-3836-4222-bdea-3ce78b9b17cb",
   "metadata": {},
   "source": [
    "Given a list of numbers, find the maximum and minimum\n",
    "values \n"
   ]
  },
  {
   "cell_type": "code",
   "execution_count": 25,
   "id": "2268636a-4f3b-4d58-936b-0e2a6578dfd3",
   "metadata": {},
   "outputs": [
    {
     "name": "stdout",
     "output_type": "stream",
     "text": [
      "8 1\n"
     ]
    }
   ],
   "source": [
    "l1=[1,2,3,4,5,6,7,8]\n",
    "print(max(l1),min(l1))\n"
   ]
  },
  {
   "cell_type": "markdown",
   "id": "852dd573-e8d1-4d4b-bcfb-d342b9e342c6",
   "metadata": {},
   "source": [
    "Create a Python function to check if a given string is a\n",
    "palindrome "
   ]
  },
  {
   "cell_type": "code",
   "execution_count": 29,
   "id": "380a427d-597b-47e9-86bb-c7ad5926c0c4",
   "metadata": {},
   "outputs": [
    {
     "name": "stdin",
     "output_type": "stream",
     "text": [
      "Enter the string asa\n"
     ]
    },
    {
     "data": {
      "text/plain": [
       "'The string is palindrome'"
      ]
     },
     "execution_count": 29,
     "metadata": {},
     "output_type": "execute_result"
    }
   ],
   "source": [
    "def palindrome(string):\n",
    "    if(string==string[::-1]):\n",
    "        return \"The string is palindrome\"\n",
    "    else:\n",
    "        return \"The string is not palindrome\"\n",
    "string=input(\"Enter the string\")\n",
    "palindrome(string)\n",
    "  "
   ]
  },
  {
   "cell_type": "markdown",
   "id": "df2795fc-37cb-4ff6-9fb4-9a383cbef9d8",
   "metadata": {},
   "source": [
    "Calculate the compound interest for a given principal\n",
    "amount, interest rate, and time period "
   ]
  },
  {
   "cell_type": "code",
   "execution_count": 34,
   "id": "a32b2dce-b48f-4713-8d9d-a0c574d31ba6",
   "metadata": {},
   "outputs": [
    {
     "name": "stdin",
     "output_type": "stream",
     "text": [
      "Enter the amount 10000\n",
      "Enter interest rate 10\n",
      "Enter the time period 2\n"
     ]
    },
    {
     "name": "stdout",
     "output_type": "stream",
     "text": [
      "compount interest 12100.000000000002\n"
     ]
    }
   ],
   "source": [
    "amount=float(input(\"Enter the amount\"))\n",
    "interest_rate=int(input(\"Enter interest rate\"))\n",
    "time_period=int(input(\"Enter the time period\"))\n",
    "compound_interest=amount*(1+interest_rate/100)**time_period\n",
    "print(f\"compount interest {compound_interest}\")"
   ]
  },
  {
   "cell_type": "markdown",
   "id": "2f46322a-4357-4537-a7a1-6dc22b85f3fd",
   "metadata": {},
   "source": [
    "Write a program that converts a given number of days\n",
    "into years, weeks, and days "
   ]
  },
  {
   "cell_type": "code",
   "execution_count": 7,
   "id": "0698c91a-a038-4db9-9bd7-ab8612028c4c",
   "metadata": {},
   "outputs": [
    {
     "name": "stdin",
     "output_type": "stream",
     "text": [
      "Enter the number of days 400\n"
     ]
    },
    {
     "name": "stdout",
     "output_type": "stream",
     "text": [
      "years1\n",
      "days0\n",
      "weeks5\n"
     ]
    }
   ],
   "source": [
    "n=int(input(\"Enter the number of days\"))\n",
    "\n",
    "year=n//365\n",
    "weeks=(n%365)//7\n",
    "days=(n%365)%7\n",
    "print(f\"years{year}\")\n",
    "print(f\"days{days}\")\n",
    "print(f\"weeks{weeks}\")\n",
    "    \n",
    "    "
   ]
  },
  {
   "cell_type": "markdown",
   "id": "01dfa1cb-3ef9-4468-b63e-4539bea24a65",
   "metadata": {},
   "source": [
    "Given a list of integers, find the sum of all positive \n",
    "numbers "
   ]
  },
  {
   "cell_type": "code",
   "execution_count": 16,
   "id": "47667268-9d82-4d79-923b-86b935cad2c4",
   "metadata": {},
   "outputs": [
    {
     "name": "stdout",
     "output_type": "stream",
     "text": [
      "positive number sum 40\n",
      "Negative number -22\n"
     ]
    }
   ],
   "source": [
    "l1=[1,2,3,4,5,6,7,8-9,-10,-11,12]\n",
    "pos_num=0\n",
    "neg_num=0\n",
    "for n in l1:\n",
    "    if(n>0):\n",
    "        pos_num=pos_num+n\n",
    "    else:\n",
    "        neg_num=neg_num+n\n",
    "print(f\"positive number sum {pos_num}\") \n",
    "print(f\"Negative number {neg_num}\")\n",
    "        \n",
    "        \n"
   ]
  },
  {
   "cell_type": "markdown",
   "id": "0fdb7c51-53d7-4cb3-8acd-f73aacec15db",
   "metadata": {},
   "source": [
    "Create a program that takes a sentence as input and \n",
    "counts the number of words in it"
   ]
  },
  {
   "cell_type": "code",
   "execution_count": 18,
   "id": "419de13d-d851-4829-9426-a5e15f4a1c93",
   "metadata": {},
   "outputs": [
    {
     "name": "stdin",
     "output_type": "stream",
     "text": [
      "enter the sentence my name is shivam mishra what about you\n"
     ]
    },
    {
     "name": "stdout",
     "output_type": "stream",
     "text": [
      "8\n"
     ]
    }
   ],
   "source": [
    "sen=input(\"enter the sentence\")\n",
    "number_of_words=len(sen.split())\n",
    "print(number_of_words)"
   ]
  },
  {
   "cell_type": "markdown",
   "id": "3866b15e-4e24-40f5-b1dc-73da48b1a6b1",
   "metadata": {},
   "source": [
    "Implement a program that swaps the values of two \n",
    "variables."
   ]
  },
  {
   "cell_type": "code",
   "execution_count": 19,
   "id": "37ecd4cc-d98b-40c3-9864-8d6a33a387d3",
   "metadata": {},
   "outputs": [
    {
     "name": "stdin",
     "output_type": "stream",
     "text": [
      "Enter the first number 12\n",
      "Enter the second number 13\n"
     ]
    },
    {
     "name": "stdout",
     "output_type": "stream",
     "text": [
      "13 12\n"
     ]
    }
   ],
   "source": [
    "x=int(input(\"Enter the first number\"))\n",
    "y=int(input(\"Enter the second number\"))\n",
    "temp=0\n",
    "temp=x\n",
    "x=y\n",
    "y=temp\n",
    "print(x,y)"
   ]
  },
  {
   "cell_type": "code",
   "execution_count": null,
   "id": "a15b3634-14db-40bb-86e1-6db948d91c35",
   "metadata": {},
   "outputs": [],
   "source": []
  }
 ],
 "metadata": {
  "kernelspec": {
   "display_name": "Python 3 (ipykernel)",
   "language": "python",
   "name": "python3"
  },
  "language_info": {
   "codemirror_mode": {
    "name": "ipython",
    "version": 3
   },
   "file_extension": ".py",
   "mimetype": "text/x-python",
   "name": "python",
   "nbconvert_exporter": "python",
   "pygments_lexer": "ipython3",
   "version": "3.10.6"
  }
 },
 "nbformat": 4,
 "nbformat_minor": 5
}
