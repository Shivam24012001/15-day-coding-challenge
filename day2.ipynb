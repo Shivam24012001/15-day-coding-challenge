{
 "cells": [
  {
   "cell_type": "markdown",
   "id": "a64cb9cd-ac0b-4994-8be2-1b604684b17a",
   "metadata": {},
   "source": [
    "Create variables for storing a person's name, age, and  ",
    "\n",
    " average test score"
   ]
  },
  {
   "cell_type": "code",
   "execution_count": 1,
   "id": "c0133c5c-d417-4100-aef4-b0fc5cce6f43",
   "metadata": {},
   "outputs": [],
   "source": [
    "def personal_details():\n",
    "    name,age=\"shivam\",24\n",
    "    average_test_score=78\n",
    "    print(\"name:{} \\n age:{}\\n average_test {}\".format(name,age,average_test_score))\n"
   ]
  },
  {
   "cell_type": "markdown",
   "id": "7dace608-4d46-43fc-81ea-8e67e40b5950",
   "metadata": {},
   "source": []
  },
  {
   "cell_type": "code",
   "execution_count": 2,
   "id": "bd9b805b-78f5-4421-9f57-9715be86c5df",
   "metadata": {},
   "outputs": [
    {
     "name": "stdout",
     "output_type": "stream",
     "text": [
      "name:shivam \n",
      " age:24\n",
      " average_test 78\n"
     ]
    }
   ],
   "source": [
    "personal_details()"
   ]
  },
  {
   "cell_type": "markdown",
   "id": "0976af42-0948-4ab8-aa7d-a3339779e0aa",
   "metadata": {},
   "source": [
    "Concatenate two strings and print the result."
   ]
  },
  {
   "cell_type": "code",
   "execution_count": 4,
   "id": "7cd23115-bdbb-4016-8e16-46b6429324a3",
   "metadata": {},
   "outputs": [
    {
     "name": "stdin",
     "output_type": "stream",
     "text": [
      "Enter the first string shivam\n",
      "Enter the second string mishra\n"
     ]
    },
    {
     "name": "stdout",
     "output_type": "stream",
     "text": [
      "shivammishra\n"
     ]
    }
   ],
   "source": [
    "str1=input(\"Enter the first string\")\n",
    "str2=input(\"Enter the second string\")\n",
    "print(str1+str2)"
   ]
  },
  {
   "cell_type": "markdown",
   "id": "e071f388-af5b-442c-9ada-dfd3b8032908",
   "metadata": {},
   "source": [
    "Create a list of fruits and access elements using  ",
    "\n",
    " indexing."
   ]
  },
  {
   "cell_type": "code",
   "execution_count": 1,
   "id": "191cfa0a-f23a-4db9-9e98-ec8295dd63eb",
   "metadata": {},
   "outputs": [
    {
     "data": {
      "text/plain": [
       "'apple'"
      ]
     },
     "execution_count": 1,
     "metadata": {},
     "output_type": "execute_result"
    }
   ],
   "source": [
    "l1=['mangoes','apple','banana','orange']\n",
    "l1[1]"
   ]
  },
  {
   "cell_type": "code",
   "execution_count": 2,
   "id": "8123ae80-36a8-4292-b0d0-498ad2e0f419",
   "metadata": {},
   "outputs": [
    {
     "data": {
      "text/plain": [
       "'orange'"
      ]
     },
     "execution_count": 2,
     "metadata": {},
     "output_type": "execute_result"
    }
   ],
   "source": [
    "l1[3]"
   ]
  },
  {
   "cell_type": "code",
   "execution_count": 3,
   "id": "009ca58a-8437-4f07-8ff6-fa81efb7f13b",
   "metadata": {},
   "outputs": [
    {
     "data": {
      "text/plain": [
       "'orange'"
      ]
     },
     "execution_count": 3,
     "metadata": {},
     "output_type": "execute_result"
    }
   ],
   "source": [
    "l1[-1]"
   ]
  },
  {
   "cell_type": "markdown",
   "id": "620d152a-486e-4cf5-a8d1-5ccc9072a74a",
   "metadata": {},
   "source": [
    " Given a list of numbers, find the sum and average"
   ]
  },
  {
   "cell_type": "code",
   "execution_count": 9,
   "id": "bad0a271-fca1-47ca-b2db-b684c51bd310",
   "metadata": {},
   "outputs": [
    {
     "name": "stdout",
     "output_type": "stream",
     "text": [
      "sum:21\n",
      " average:3.5\n"
     ]
    }
   ],
   "source": [
    "l1=[1,2,3,4,5,6]\n",
    "sum=0\n",
    "for i in l1:\n",
    "    sum=sum+i\n",
    "av=len(l1)\n",
    "average=sum/av\n",
    "print(\"sum:{}\\n average:{}\".format(sum,average))\n",
    "    "
   ]
  },
  {
   "cell_type": "markdown",
   "id": "3e02cc30-5fd7-4fec-bbb7-19a0707da63d",
   "metadata": {},
   "source": [
    "% Create a program that takes a temperature in Celsius and \n",
    "converts it to Kelvin"
   ]
  },
  {
   "cell_type": "code",
   "execution_count": 11,
   "id": "d85c373a-2dd9-4d52-879b-16af9ed53d6d",
   "metadata": {},
   "outputs": [
    {
     "name": "stdin",
     "output_type": "stream",
     "text": [
      "Enter the Temperature in celcius 27\n"
     ]
    },
    {
     "name": "stdout",
     "output_type": "stream",
     "text": [
      "The kelvin value is:300.15\n"
     ]
    }
   ],
   "source": [
    "celcius=float(input(\"Enter the Temperature in celcius\"))\n",
    "kelvin=celcius+273.15\n",
    "print(f\"The kelvin value is:{kelvin}\")"
   ]
  },
  {
   "cell_type": "markdown",
   "id": "f091c695-3166-4733-9f29-9e86ac30733a",
   "metadata": {},
   "source": [
    "Implement a program that checks if a given string is a \n",
    "palindrome)"
   ]
  },
  {
   "cell_type": "code",
   "execution_count": 12,
   "id": "18b74c0c-a9c8-49af-809f-bda25c932d02",
   "metadata": {},
   "outputs": [
    {
     "name": "stdin",
     "output_type": "stream",
     "text": [
      "Enter the string shi\n"
     ]
    },
    {
     "data": {
      "text/plain": [
       "'The string is not palindrome'"
      ]
     },
     "execution_count": 12,
     "metadata": {},
     "output_type": "execute_result"
    }
   ],
   "source": [
    "str=input(\"Enter the string\")\n",
    "def palindrome(str):\n",
    "    if (str==str[::-1]):\n",
    "        return \"The string is palindrome\"\n",
    "    else:\n",
    "        return \"The string is not palindrome\"\n",
    "palindrome(str)    "
   ]
  },
  {
   "cell_type": "markdown",
   "id": "b4f37140-79e0-4ce9-bd9f-c0497d29b6dc",
   "metadata": {},
   "source": [
    " Create a function to reverse a given string)"
   ]
  },
  {
   "cell_type": "code",
   "execution_count": 26,
   "id": "fb83fd78-6781-4755-a3ae-de0c0a9bcde7",
   "metadata": {},
   "outputs": [
    {
     "name": "stdin",
     "output_type": "stream",
     "text": [
      "Enter the string shivam\n"
     ]
    },
    {
     "data": {
      "text/plain": [
       "'mavihs'"
      ]
     },
     "execution_count": 26,
     "metadata": {},
     "output_type": "execute_result"
    }
   ],
   "source": [
    "def reverse(string):\n",
    "    string=string[::-1]\n",
    "    return string\n",
    "\n",
    "\n",
    "s=input(\"Enter the string\")\n",
    "reverse(s)"
   ]
  },
  {
   "cell_type": "markdown",
   "id": "25c8af6b-068f-4b85-9050-4540117cad38",
   "metadata": {},
   "source": [
    "Given a list of names, concatenate them into a single \n",
    "string separated by spaces"
   ]
  },
  {
   "cell_type": "code",
   "execution_count": 43,
   "id": "7633ae2c-73c1-45ea-92a1-9fa73f72dafd",
   "metadata": {},
   "outputs": [
    {
     "data": {
      "text/plain": [
       "'shivam mishra age something done '"
      ]
     },
     "execution_count": 43,
     "metadata": {},
     "output_type": "execute_result"
    }
   ],
   "source": [
    "l1=[\"shivam\",\"mishra\",\"age\",\"something\",\"done\"]\n",
    "string=\"\"\n",
    "for i in l1:\n",
    "    string=string+i+\" \"\n",
    "string\n",
    "    \n"
   ]
  },
  {
   "cell_type": "markdown",
   "id": "1eb0a77d-dc71-4745-8f03-2d14d027e117",
   "metadata": {},
   "source": [
    "% Write a Python program to check if a given string is a \n",
    "pangram (contains all letters of the alphabet))"
   ]
  },
  {
   "cell_type": "code",
   "execution_count": 48,
   "id": "62f3b133-8db8-4d16-a111-2c0d2b074d02",
   "metadata": {},
   "outputs": [
    {
     "data": {
      "text/plain": [
       "True"
      ]
     },
     "execution_count": 48,
     "metadata": {},
     "output_type": "execute_result"
    }
   ],
   "source": [
    "import string\n",
    "\n",
    "def pangram(str,alphabates=string.ascii_lowercase):\n",
    "    return set(alphabates)<=set(str.lower())\n",
    "pangram(\"The quick brown fox jumps over the lazy doggg\")\n"
   ]
  },
  {
   "cell_type": "markdown",
   "id": "fed14907-732f-4f66-8f64-64cd6adc605b",
   "metadata": {},
   "source": [
    "Calculate the area and circumference of a circle given its \r\n",
    "radius)"
   ]
  },
  {
   "cell_type": "code",
   "execution_count": 1,
   "id": "e483c972-4b61-4e03-9c87-860bbe350ea6",
   "metadata": {},
   "outputs": [
    {
     "name": "stdin",
     "output_type": "stream",
     "text": [
      "Enter the radius of circle 23\n"
     ]
    },
    {
     "name": "stdout",
     "output_type": "stream",
     "text": [
      "Circumference144.44\n",
      "area of circle1661.0600000000002\n"
     ]
    }
   ],
   "source": [
    "r=float(input(\"Enter the radius of circle\"))\n",
    "circumference=2*3.14*r\n",
    "area=3.14*r**2\n",
    "print(f\"Circumference{circumference}\")\n",
    "print(f\"area of circle{area}\")"
   ]
  },
  {
   "cell_type": "markdown",
   "id": "66f8f291-b9da-404b-a0f6-014761d5c6b8",
   "metadata": {},
   "source": [
    "Implement a program that converts a given number of \n",
    "minutes into hours and minutes)"
   ]
  },
  {
   "cell_type": "code",
   "execution_count": 3,
   "id": "1b8aa736-7a0c-4175-804e-983e2ba23ec3",
   "metadata": {},
   "outputs": [
    {
     "name": "stdin",
     "output_type": "stream",
     "text": [
      "Enter the mintue value: 65\n"
     ]
    },
    {
     "name": "stdout",
     "output_type": "stream",
     "text": [
      "hours number 1 \n",
      " minutes 5\n"
     ]
    }
   ],
   "source": [
    "minute=int(input(\"Enter the mintue value:\"))\n",
    "hours=minute//60\n",
    "minutes=minute%60\n",
    "print(\"hours number {} \\n minutes {}\".format(hours,minutes))"
   ]
  },
  {
   "cell_type": "markdown",
   "id": "5a9df11c-88e3-4150-80a4-56797e9afae1",
   "metadata": {},
   "source": [
    " Create a function to count the number of vowels in a \n",
    "given string)"
   ]
  },
  {
   "cell_type": "code",
   "execution_count": 9,
   "id": "28ac3fb4-851b-4318-be14-fe2691043345",
   "metadata": {},
   "outputs": [
    {
     "name": "stdin",
     "output_type": "stream",
     "text": [
      "Enter the string aeiouaeiou\n"
     ]
    },
    {
     "data": {
      "text/plain": [
       "10"
      ]
     },
     "execution_count": 9,
     "metadata": {},
     "output_type": "execute_result"
    }
   ],
   "source": [
    "def vowel_count(string):\n",
    "    vowels='aeiouAEIOU'\n",
    "    count=0\n",
    "    for i in string:\n",
    "        if i in vowels:\n",
    "            count=count+1\n",
    "    return count\n",
    "string=input(\"Enter the string\")\n",
    "vowel_count(string)"
   ]
  },
  {
   "cell_type": "markdown",
   "id": "244564e2-2df1-4424-91b9-bc75fd705239",
   "metadata": {},
   "source": [
    "Write a program to check if a number is prime."
   ]
  },
  {
   "cell_type": "code",
   "execution_count": 13,
   "id": "5b23c5fb-187d-4335-b3da-5afe0d17dbe0",
   "metadata": {},
   "outputs": [
    {
     "name": "stdin",
     "output_type": "stream",
     "text": [
      "Enter the number 2324342\n"
     ]
    },
    {
     "name": "stdout",
     "output_type": "stream",
     "text": [
      "Not a prime number 2324342\n"
     ]
    }
   ],
   "source": [
    "n=int(input(\"Enter the number\"))\n",
    "def isprime(n):\n",
    "    if n<=0:\n",
    "        return False\n",
    "    for i in range(2,int(n**0.5)+1):\n",
    "        if n%i==0:\n",
    "            return False\n",
    "        return True\n",
    "\n",
    "if isprime(n):\n",
    "    print(f\"Prime number {n}\")\n",
    "else:\n",
    "    print(f\"Not a prime number {n}\")\n",
    "    "
   ]
  },
  {
   "cell_type": "code",
   "execution_count": null,
   "id": "beb13265-369d-4ae4-9446-0a241796a76b",
   "metadata": {},
   "outputs": [],
   "source": []
  }
 ],
 "metadata": {
  "kernelspec": {
   "display_name": "Python 3 (ipykernel)",
   "language": "python",
   "name": "python3"
  },
  "language_info": {
   "codemirror_mode": {
    "name": "ipython",
    "version": 3
   },
   "file_extension": ".py",
   "mimetype": "text/x-python",
   "name": "python",
   "nbconvert_exporter": "python",
   "pygments_lexer": "ipython3",
   "version": "3.10.6"
  }
 },
 "nbformat": 4,
 "nbformat_minor": 5
}
